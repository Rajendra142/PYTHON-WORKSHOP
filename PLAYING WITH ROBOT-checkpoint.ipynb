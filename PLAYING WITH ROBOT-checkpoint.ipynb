{
 "cells": [
  {
   "cell_type": "code",
   "execution_count": 6,
   "metadata": {},
   "outputs": [
    {
     "name": "stdout",
     "output_type": "stream",
     "text": [
      "HII! I AM A ROBOT MY NAME IS CHITTI:\n",
      "I CAN DANCE\n",
      "I CAN READ\n",
      "I CAN SING\n",
      "HII! I AM A ROBOT MY NAME IS RSS:\n",
      "I CAN DANCE\n",
      "I CAN READ\n",
      "I CAN SING\n",
      "I CAN FIGHT\n",
      "I CAN THINK\n",
      "I CAN FEEL\n",
      "THANK YOU!\n",
      "RAJENDRA\n"
     ]
    }
   ],
   "source": [
    "def robot(name,*hobbies):\n",
    "    print(\"HII! I AM A ROBOT MY NAME IS {}:\".format(name))\n",
    "    for hobbies in hobbies:\n",
    "        print(\"I CAN {}\".format(hobbies))\n",
    "robot(\"CHITTI\",\"DANCE\",\"READ\",\"SING\")\n",
    "robot(\"RSS\",\"DANCE\",\"READ\",\"SING\",\"FIGHT\",\"THINK\",\"FEEL\")\n",
    "print(\"THANK YOU!\")\n",
    "print(\"RAJENDRA\")"
   ]
  },
  {
   "cell_type": "code",
   "execution_count": 63,
   "metadata": {},
   "outputs": [
    {
     "name": "stdout",
     "output_type": "stream",
     "text": [
      "HII! I AM A ROBOT.\n",
      "MY NAME IS CHITTI\n",
      "my hobby is following\n",
      "HII! I AM A ROBOT.\n",
      "MY NAME IS RAJENDRA\n",
      "my hobby is WASTING TIME\n"
     ]
    }
   ],
   "source": [
    "def robot(name,hobbies):\n",
    "    print(\"HII! I AM A ROBOT.\\nMY NAME IS {}\".format(name))\n",
    "    print(\"my hobby is {}\".format(hobbies))\n",
    "robot(\"CHITTI\",\"following\")\n",
    "robot(\"RAJENDRA\",\"WASTING TIME\")"
   ]
  },
  {
   "cell_type": "code",
   "execution_count": 1,
   "metadata": {},
   "outputs": [
    {
     "name": "stdout",
     "output_type": "stream",
     "text": [
      "WELCOM RAJENDRA\n",
      "HOW ARE U RAJENDRA?\n",
      "good\n",
      "HII! I AM A ROBOT MY NAME IS CHITTI:\n",
      "I CAN DANCE\n",
      "I CAN READ\n",
      "I CAN SING\n",
      "HII! I AM A ROBOT MY NAME IS RSS:\n",
      "I CAN DANCE\n",
      "I CAN READ\n",
      "I CAN SING\n",
      "I CAN FIGHT\n",
      "I CAN THINK\n",
      "I CAN FEEL\n",
      "THANK YOU!\n",
      "RAJENDRA\n"
     ]
    }
   ],
   "source": [
    "print(\"WELCOM RAJENDRA\")\n",
    "print(\"HOW ARE U RAJENDRA?\")\n",
    "answer=input(\"\")\n",
    "def robot(name,*hobbies):\n",
    "    print(\"HII! I AM A ROBOT MY NAME IS {}:\".format(name))\n",
    "    for hobbies in hobbies:\n",
    "        print(\"I CAN {}\".format(hobbies))\n",
    "robot(\"CHITTI\",\"DANCE\",\"READ\",\"SING\")\n",
    "robot(\"RSS\",\"DANCE\",\"READ\",\"SING\",\"FIGHT\",\"THINK\",\"FEEL\")\n",
    "print(\"THANK YOU!\")\n",
    "print(\"RAJENDRA\")"
   ]
  },
  {
   "cell_type": "code",
   "execution_count": null,
   "metadata": {},
   "outputs": [],
   "source": []
  }
 ],
 "metadata": {
  "kernelspec": {
   "display_name": "Python 3",
   "language": "python",
   "name": "python3"
  },
  "language_info": {
   "codemirror_mode": {
    "name": "ipython",
    "version": 3
   },
   "file_extension": ".py",
   "mimetype": "text/x-python",
   "name": "python",
   "nbconvert_exporter": "python",
   "pygments_lexer": "ipython3",
   "version": "3.7.6"
  }
 },
 "nbformat": 4,
 "nbformat_minor": 4
}
