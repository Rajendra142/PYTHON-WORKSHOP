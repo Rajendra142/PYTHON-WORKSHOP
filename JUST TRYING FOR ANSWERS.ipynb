{
 "cells": [
  {
   "cell_type": "markdown",
   "metadata": {},
   "source": [
    "# 1.create a function to find prime numbers in a given range?"
   ]
  },
  {
   "cell_type": "code",
   "execution_count": 6,
   "metadata": {},
   "outputs": [
    {
     "name": "stdout",
     "output_type": "stream",
     "text": [
      "ENTER LOWER RANGE VALUE(a):0\n",
      "ENTER UPPER RANGE VALUE(b):99\n",
      "PRIME NUMBERS BETWEEN 0 AND 99 is :\n",
      "0\n",
      "2\n",
      "3\n",
      "5\n",
      "7\n",
      "11\n",
      "13\n",
      "17\n",
      "19\n",
      "23\n",
      "29\n",
      "31\n",
      "37\n",
      "41\n",
      "43\n",
      "47\n",
      "53\n",
      "59\n",
      "61\n",
      "67\n",
      "71\n",
      "73\n",
      "79\n",
      "83\n",
      "89\n",
      "97\n"
     ]
    }
   ],
   "source": [
    "a=int(input(\"ENTER LOWER RANGE VALUE(a):\"))\n",
    "b=int(input(\"ENTER UPPER RANGE VALUE(b):\"))\n",
    "def primeinrange(a,b):\n",
    "    print(\"PRIME NUMBERS BETWEEN\",a,\"AND\",b,\"is :\")\n",
    "    for Number in range (a,b+1):\n",
    "        count=0\n",
    "        for i in range(2,(Number//2 + 1)):\n",
    "            if(Number%i==0):\n",
    "                count=count+1\n",
    "                break\n",
    "        if (count==0 and Number!=1):\n",
    "            print(Number)\n",
    "primeinrange(a,b)"
   ]
  },
  {
   "cell_type": "markdown",
   "metadata": {},
   "source": [
    "# 2.create a function to find the armstrong number in the range of 100 to 200?"
   ]
  },
  {
   "cell_type": "code",
   "execution_count": 20,
   "metadata": {},
   "outputs": [
    {
     "name": "stdout",
     "output_type": "stream",
     "text": [
      "ARMSTRONG NUMBERS BETWEEN 100 AND 200 is : 153\n"
     ]
    }
   ],
   "source": [
    "a=100\n",
    "b=200\n",
    "def armstrongornot(a,b):\n",
    "    for num in range(a,b+1):\n",
    "       order=len(str(num))\n",
    "       sum=0\n",
    "       temp=num\n",
    "       while temp>0:\n",
    "           digit=temp%10\n",
    "           sum+=digit**order\n",
    "           temp//=10\n",
    "       if num==sum:\n",
    "           print(\"ARMSTRONG NUMBERS BETWEEN\",a,\"AND\",b,\"is :\",num)\n",
    "armstrongornot(a,b)"
   ]
  },
  {
   "cell_type": "markdown",
   "metadata": {},
   "source": [
    "# 3.take a string \"problem solving using python\"\n",
    "   * a.find the length of the string"
   ]
  },
  {
   "cell_type": "code",
   "execution_count": 28,
   "metadata": {},
   "outputs": [
    {
     "name": "stdout",
     "output_type": "stream",
     "text": [
      "28\n"
     ]
    }
   ],
   "source": [
    "print(len(\"problem solving using python\"))"
   ]
  },
  {
   "cell_type": "markdown",
   "metadata": {},
   "source": [
    " * b.change the string to lower case\n"
   ]
  },
  {
   "cell_type": "code",
   "execution_count": 7,
   "metadata": {},
   "outputs": [
    {
     "name": "stdout",
     "output_type": "stream",
     "text": [
      "problem solving with python\n"
     ]
    }
   ],
   "source": [
    "string=\"PROBLEM SOLVING WITH PYTHON\"\n",
    "print(string.lower())"
   ]
  },
  {
   "cell_type": "markdown",
   "metadata": {},
   "source": [
    " * c.print the string in reverse order"
   ]
  },
  {
   "cell_type": "code",
   "execution_count": 11,
   "metadata": {},
   "outputs": [
    {
     "name": "stdout",
     "output_type": "stream",
     "text": [
      "NOHTYP HTIW GNIVLOS MELBORP\n"
     ]
    }
   ],
   "source": [
    "string=\"PROBLEM SOLVING WITH PYTHON\"[-1::-1]\n",
    "print(string)"
   ]
  },
  {
   "cell_type": "markdown",
   "metadata": {},
   "source": [
    " * d.split the string using spaces"
   ]
  },
  {
   "cell_type": "code",
   "execution_count": 13,
   "metadata": {},
   "outputs": [
    {
     "name": "stdout",
     "output_type": "stream",
     "text": [
      "['PROBLEM', 'SOLVING', 'WITH', 'PYTHON']\n"
     ]
    }
   ],
   "source": [
    "string=\"PROBLEM SOLVING WITH PYTHON\"\n",
    "print(string.split(\" \"))"
   ]
  },
  {
   "cell_type": "markdown",
   "metadata": {},
   "source": [
    " * e.print the string without spaces"
   ]
  },
  {
   "cell_type": "code",
   "execution_count": 41,
   "metadata": {},
   "outputs": [
    {
     "name": "stdout",
     "output_type": "stream",
     "text": [
      "PROBLEMSOLVINGWITHPYTHON\n"
     ]
    }
   ],
   "source": [
    "string=\"PROBLEM SOLVING WITH PYTHON\"\n",
    "print(string.replace(\" \",\"\"))"
   ]
  },
  {
   "cell_type": "markdown",
   "metadata": {},
   "source": [
    "* f.find how many times \"s\" is repeated in a given string."
   ]
  },
  {
   "cell_type": "code",
   "execution_count": 4,
   "metadata": {},
   "outputs": [
    {
     "name": "stdout",
     "output_type": "stream",
     "text": [
      "1\n"
     ]
    }
   ],
   "source": [
    "string=\"PROBLEM SOLVING WITH PYTHON\"\n",
    "print(string.count(\"S\"))"
   ]
  },
  {
   "cell_type": "markdown",
   "metadata": {},
   "source": [
    "# 4.take a string \"python programing by pton platforms\"\n",
    "     * a.find how may times python is repeated."
   ]
  },
  {
   "cell_type": "code",
   "execution_count": 6,
   "metadata": {},
   "outputs": [
    {
     "name": "stdout",
     "output_type": "stream",
     "text": [
      "2\n"
     ]
    }
   ],
   "source": [
    "string=\"python programing by python platforms\"\n",
    "print(string.count(\"python\"))"
   ]
  },
  {
   "cell_type": "markdown",
   "metadata": {},
   "source": [
    "# 5.create a function to find the averages of cubes of all the even numbers in a given range?"
   ]
  },
  {
   "cell_type": "code",
   "execution_count": 11,
   "metadata": {},
   "outputs": [
    {
     "name": "stdout",
     "output_type": "stream",
     "text": [
      "The average of cubes of all the even numbers in a given range is: 96\n"
     ]
    }
   ],
   "source": [
    "def avg_of_even_num(a,b): \n",
    "    sum=0\n",
    "    for i in range(a,b+1):                        # ((2*2*2+4*4*4+6*6*6)/3) is the answer as 96\n",
    "        sum+=(2*i)*(2*i)*(2*i)\n",
    "        n=b-a  \n",
    "    return sum//n \n",
    "print(\"The average of cubes of all the even numbers in a given range is:\",avg_of_even_num(0,3))"
   ]
  },
  {
   "cell_type": "markdown",
   "metadata": {},
   "source": [
    "# 6.create a function to calculate the average of first n prime numbers?"
   ]
  },
  {
   "cell_type": "code",
   "execution_count": 1,
   "metadata": {},
   "outputs": [
    {
     "name": "stdout",
     "output_type": "stream",
     "text": [
      "THERE IS A NEEED TO DEVELOP THIS PROGRAM GOING TO NEXT QUESTION IS THE BEST OPTION.\n",
      "Find sum of prime numbers upto : 9\n",
      "\n",
      "avg of all prime numbers upto 9 : 1.8888888888888888\n"
     ]
    }
   ],
   "source": [
    "print(\"THERE IS A NEEED TO DEVELOP THIS PROGRAM GOING TO NEXT QUESTION IS THE BEST OPTION.\")\n",
    "upto = int(input(\"Find sum of prime numbers upto : \"))\n",
    "x = 0\n",
    "for num in range(2, upto + 1):\n",
    "    i = 1\n",
    "    for i in range(2, num):\n",
    "        if (int(num % i) == 0):\n",
    "            i = num\n",
    "            break;\n",
    "    if i is not num:\n",
    "        x += num/upto\n",
    "print(\"\\navg of all prime numbers upto\", upto, \":\", x)"
   ]
  },
  {
   "cell_type": "markdown",
   "metadata": {},
   "source": [
    "# 7.create a function to find the perfect numbers in a given range?"
   ]
  },
  {
   "cell_type": "code",
   "execution_count": 36,
   "metadata": {},
   "outputs": [
    {
     "name": "stdout",
     "output_type": "stream",
     "text": [
      "IF YOU WANT TO KNOW ABOUT THE PERFECT NUMBER PRESS ENTER\n",
      "any positive integer where the sum of its divisors minus\n",
      "the number itself equals the number,\n",
      "then that number is called perfect number\n",
      "\n",
      "\n",
      "THE PERFECT NUMBERS IN A GIVEN RANGE ARE:\n",
      "6\n",
      "28\n",
      "496\n",
      "8128\n"
     ]
    }
   ],
   "source": [
    "enter=input((\"IF YOU WANT TO KNOW ABOUT THE PERFECT NUMBER PRESS ENTER\"))\n",
    "print(\"any positive integer where the sum of its divisors minus\\n\" \n",
    "      \"the number itself equals the number,\"\n",
    "      \"\\nthen that number is called perfect number\\n\\n\")\n",
    "def isPerfect(n):        \n",
    "    sum=1   \n",
    "    i=2\n",
    "    while i*i<=n: \n",
    "        if n%i==0: \n",
    "            sum=sum+i+n/i \n",
    "        i+=1\n",
    "    return(True if sum==n and n!=1 else False)  \n",
    "print(\"THE PERFECT NUMBERS IN A GIVEN RANGE ARE:\")\n",
    "n=2\n",
    "for n in range (10000): \n",
    "    if isPerfect (n): \n",
    "        print(n) "
   ]
  },
  {
   "cell_type": "markdown",
   "metadata": {},
   "source": [
    "# 8.write a program to find the second largest number in a given range?"
   ]
  },
  {
   "cell_type": "code",
   "execution_count": 22,
   "metadata": {},
   "outputs": [
    {
     "name": "stdout",
     "output_type": "stream",
     "text": [
      "ENTER LOWER RANGE VALUE(a):0\n",
      "ENTER UPPER RANGE VALUE(b):1000\n",
      "THE SECOND HIGHEST NUMBER IN THE GIVEN RANGE IS: 999\n"
     ]
    }
   ],
   "source": [
    "a=int(input(\"ENTER LOWER RANGE VALUE(a):\"))\n",
    "b=int(input(\"ENTER UPPER RANGE VALUE(b):\"))\n",
    "for  i in range(a,b+1):\n",
    "    pass     \n",
    "print(\"THE SECOND HIGHEST NUMBER IN THE GIVEN RANGE IS:\",  b-1)"
   ]
  },
  {
   "cell_type": "markdown",
   "metadata": {},
   "source": [
    "# 9.create a function to convert decimal number to binary?"
   ]
  },
  {
   "cell_type": "code",
   "execution_count": null,
   "metadata": {},
   "outputs": [],
   "source": []
  }
 ],
 "metadata": {
  "kernelspec": {
   "display_name": "Python 3",
   "language": "python",
   "name": "python3"
  },
  "language_info": {
   "codemirror_mode": {
    "name": "ipython",
    "version": 3
   },
   "file_extension": ".py",
   "mimetype": "text/x-python",
   "name": "python",
   "nbconvert_exporter": "python",
   "pygments_lexer": "ipython3",
   "version": "3.7.6"
  }
 },
 "nbformat": 4,
 "nbformat_minor": 4
}
